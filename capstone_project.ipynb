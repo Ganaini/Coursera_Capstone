{
 "cells": [
  {
   "cell_type": "markdown",
   "id": "f81a4525",
   "metadata": {},
   "source": [
    "<h2>Import libraries<h2>"
   ]
  },
  {
   "cell_type": "markdown",
   "id": "47663604",
   "metadata": {},
   "source": [
    "<h2>This notebook will be mainly used for the capstone project</h2>"
   ]
  },
  {
   "cell_type": "code",
   "execution_count": 56,
   "id": "4c5e90f7",
   "metadata": {},
   "outputs": [],
   "source": [
    "import pandas as pd\n",
    "import numpy as np\n",
    "import requests\n",
    "from bs4 import BeautifulSoup"
   ]
  },
  {
   "cell_type": "code",
   "execution_count": 57,
   "id": "842bd279",
   "metadata": {},
   "outputs": [
    {
     "name": "stdout",
     "output_type": "stream",
     "text": [
      "Hello Capstone Project Course!\n"
     ]
    }
   ],
   "source": [
    "print('Hello Capstone Project Course!')"
   ]
  },
  {
   "cell_type": "markdown",
   "id": "9925d43e",
   "metadata": {},
   "source": [
    "<h3>Request Wikiedia page URL <h3>"
   ]
  },
  {
   "cell_type": "code",
   "execution_count": 58,
   "id": "9c0ca6ae",
   "metadata": {},
   "outputs": [],
   "source": [
    "url = 'http://en.turkcewiki.org/wiki/List_of_postal_codes_of_Canada:_M'\n",
    "html_data = requests.get(url).text"
   ]
  },
  {
   "cell_type": "code",
   "execution_count": 59,
   "id": "054cf7a9",
   "metadata": {},
   "outputs": [],
   "source": [
    "# Create a beautiful soup obect\n",
    "beautiful_soup = BeautifulSoup(html_data, 'html5lib')"
   ]
  },
  {
   "cell_type": "markdown",
   "id": "b915e899",
   "metadata": {},
   "source": [
    "<h3>Select desired table<h3>"
   ]
  },
  {
   "cell_type": "code",
   "execution_count": 60,
   "id": "8a88f714",
   "metadata": {},
   "outputs": [],
   "source": [
    "# \n",
    "tables = beautiful_soup.find_all('table')"
   ]
  },
  {
   "cell_type": "code",
   "execution_count": 61,
   "id": "367e576d",
   "metadata": {},
   "outputs": [
    {
     "data": {
      "text/plain": [
       "3"
      ]
     },
     "execution_count": 61,
     "metadata": {},
     "output_type": "execute_result"
    }
   ],
   "source": [
    "len(tables)"
   ]
  },
  {
   "cell_type": "code",
   "execution_count": 62,
   "id": "41a2deb8",
   "metadata": {},
   "outputs": [],
   "source": [
    "table_index = None\n",
    "for index,table in enumerate(tables):\n",
    "    if (\"M3A\" in str(table)):\n",
    "        table_index = index"
   ]
  },
  {
   "cell_type": "code",
   "execution_count": 63,
   "id": "fe45a4b6",
   "metadata": {},
   "outputs": [
    {
     "data": {
      "text/plain": [
       "0"
      ]
     },
     "execution_count": 63,
     "metadata": {},
     "output_type": "execute_result"
    }
   ],
   "source": [
    "table_index"
   ]
  },
  {
   "cell_type": "code",
   "execution_count": 64,
   "id": "aa593227",
   "metadata": {},
   "outputs": [],
   "source": [
    "table = tables[table_index]\n"
   ]
  },
  {
   "cell_type": "markdown",
   "id": "90289c2e",
   "metadata": {},
   "source": [
    "<h3>Extract data, reprocess it, and create our dataframe<h3>"
   ]
  },
  {
   "cell_type": "code",
   "execution_count": 65,
   "id": "594937f8",
   "metadata": {},
   "outputs": [],
   "source": [
    "table_contents=[]\n",
    "for row in table.findAll('td'):\n",
    "    cell = {}\n",
    "    if row.span.text=='Not assigned':\n",
    "        pass\n",
    "    else:\n",
    "        cell['PostalCode'] = row.p.text[:3]\n",
    "        cell['Borough'] = (row.span.text).split('(')[0]\n",
    "        cell['Neighborhood'] = (((((row.span.text).split('(')[1]).strip(')')).replace(' /',',')).replace(')',' ')).strip(' ')\n",
    "        table_contents.append(cell)\n",
    "\n",
    "# print(table_contents)\n",
    "df=pd.DataFrame(table_contents)"
   ]
  },
  {
   "cell_type": "code",
   "execution_count": 66,
   "id": "58d0d520",
   "metadata": {},
   "outputs": [
    {
     "data": {
      "text/html": [
       "<div>\n",
       "<style scoped>\n",
       "    .dataframe tbody tr th:only-of-type {\n",
       "        vertical-align: middle;\n",
       "    }\n",
       "\n",
       "    .dataframe tbody tr th {\n",
       "        vertical-align: top;\n",
       "    }\n",
       "\n",
       "    .dataframe thead th {\n",
       "        text-align: right;\n",
       "    }\n",
       "</style>\n",
       "<table border=\"1\" class=\"dataframe\">\n",
       "  <thead>\n",
       "    <tr style=\"text-align: right;\">\n",
       "      <th></th>\n",
       "      <th>PostalCode</th>\n",
       "      <th>Borough</th>\n",
       "      <th>Neighborhood</th>\n",
       "    </tr>\n",
       "  </thead>\n",
       "  <tbody>\n",
       "    <tr>\n",
       "      <th>0</th>\n",
       "      <td>M3A</td>\n",
       "      <td>North York</td>\n",
       "      <td>Parkwoods</td>\n",
       "    </tr>\n",
       "    <tr>\n",
       "      <th>1</th>\n",
       "      <td>M4A</td>\n",
       "      <td>North York</td>\n",
       "      <td>Victoria Village</td>\n",
       "    </tr>\n",
       "    <tr>\n",
       "      <th>2</th>\n",
       "      <td>M5A</td>\n",
       "      <td>Downtown Toronto</td>\n",
       "      <td>Regent Park, Harbourfront</td>\n",
       "    </tr>\n",
       "    <tr>\n",
       "      <th>3</th>\n",
       "      <td>M6A</td>\n",
       "      <td>North York</td>\n",
       "      <td>Lawrence Manor, Lawrence Heights</td>\n",
       "    </tr>\n",
       "    <tr>\n",
       "      <th>4</th>\n",
       "      <td>M7A</td>\n",
       "      <td>Queen's Park</td>\n",
       "      <td>Ontario Provincial Government</td>\n",
       "    </tr>\n",
       "    <tr>\n",
       "      <th>...</th>\n",
       "      <td>...</td>\n",
       "      <td>...</td>\n",
       "      <td>...</td>\n",
       "    </tr>\n",
       "    <tr>\n",
       "      <th>98</th>\n",
       "      <td>M8X</td>\n",
       "      <td>Etobicoke</td>\n",
       "      <td>The Kingsway, Montgomery Road, Old Mill North</td>\n",
       "    </tr>\n",
       "    <tr>\n",
       "      <th>99</th>\n",
       "      <td>M4Y</td>\n",
       "      <td>Downtown Toronto</td>\n",
       "      <td>Church and Wellesley</td>\n",
       "    </tr>\n",
       "    <tr>\n",
       "      <th>100</th>\n",
       "      <td>M7Y</td>\n",
       "      <td>East TorontoBusiness reply mail Processing Cen...</td>\n",
       "      <td>Enclave of M4L</td>\n",
       "    </tr>\n",
       "    <tr>\n",
       "      <th>101</th>\n",
       "      <td>M8Y</td>\n",
       "      <td>Etobicoke</td>\n",
       "      <td>Old Mill South, King's Mill Park, Sunnylea, Hu...</td>\n",
       "    </tr>\n",
       "    <tr>\n",
       "      <th>102</th>\n",
       "      <td>M8Z</td>\n",
       "      <td>Etobicoke</td>\n",
       "      <td>Mimico NW, The Queensway West, South of Bloor,...</td>\n",
       "    </tr>\n",
       "  </tbody>\n",
       "</table>\n",
       "<p>103 rows × 3 columns</p>\n",
       "</div>"
      ],
      "text/plain": [
       "    PostalCode                                            Borough  \\\n",
       "0          M3A                                         North York   \n",
       "1          M4A                                         North York   \n",
       "2          M5A                                   Downtown Toronto   \n",
       "3          M6A                                         North York   \n",
       "4          M7A                                       Queen's Park   \n",
       "..         ...                                                ...   \n",
       "98         M8X                                          Etobicoke   \n",
       "99         M4Y                                   Downtown Toronto   \n",
       "100        M7Y  East TorontoBusiness reply mail Processing Cen...   \n",
       "101        M8Y                                          Etobicoke   \n",
       "102        M8Z                                          Etobicoke   \n",
       "\n",
       "                                          Neighborhood  \n",
       "0                                            Parkwoods  \n",
       "1                                     Victoria Village  \n",
       "2                            Regent Park, Harbourfront  \n",
       "3                     Lawrence Manor, Lawrence Heights  \n",
       "4                        Ontario Provincial Government  \n",
       "..                                                 ...  \n",
       "98       The Kingsway, Montgomery Road, Old Mill North  \n",
       "99                                Church and Wellesley  \n",
       "100                                     Enclave of M4L  \n",
       "101  Old Mill South, King's Mill Park, Sunnylea, Hu...  \n",
       "102  Mimico NW, The Queensway West, South of Bloor,...  \n",
       "\n",
       "[103 rows x 3 columns]"
      ]
     },
     "execution_count": 66,
     "metadata": {},
     "output_type": "execute_result"
    }
   ],
   "source": [
    "df"
   ]
  },
  {
   "cell_type": "code",
   "execution_count": 67,
   "id": "079ad9b2",
   "metadata": {},
   "outputs": [
    {
     "name": "stdout",
     "output_type": "stream",
     "text": [
      "(103, 3)\n"
     ]
    }
   ],
   "source": [
    "print(df.shape)"
   ]
  },
  {
   "cell_type": "code",
   "execution_count": null,
   "id": "d42c75ae",
   "metadata": {},
   "outputs": [],
   "source": []
  }
 ],
 "metadata": {
  "kernelspec": {
   "display_name": "Python 3",
   "language": "python",
   "name": "python3"
  },
  "language_info": {
   "codemirror_mode": {
    "name": "ipython",
    "version": 3
   },
   "file_extension": ".py",
   "mimetype": "text/x-python",
   "name": "python",
   "nbconvert_exporter": "python",
   "pygments_lexer": "ipython3",
   "version": "3.7.6"
  }
 },
 "nbformat": 4,
 "nbformat_minor": 5
}
